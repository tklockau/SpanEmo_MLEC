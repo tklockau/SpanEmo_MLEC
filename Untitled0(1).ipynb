{
  "nbformat": 4,
  "nbformat_minor": 0,
  "metadata": {
    "colab": {
      "name": "Untitled0.ipynb",
      "provenance": [],
      "collapsed_sections": []
    },
    "kernelspec": {
      "name": "python3",
      "display_name": "Python 3"
    },
    "language_info": {
      "name": "python"
    },
    "accelerator": "GPU"
  },
  "cells": [
    {
      "cell_type": "code",
      "execution_count": null,
      "metadata": {
        "id": "7XDPuNglIWDs"
      },
      "outputs": [],
      "source": [
        "!git clone https://github.com/tklockau/SpanEmo_MLEC.git"
      ]
    },
    {
      "cell_type": "code",
      "source": [
        "!pip install -r /content/SpanEmo_MLEC/requirements.txt"
      ],
      "metadata": {
        "id": "zOQTnDrPJFt6"
      },
      "execution_count": null,
      "outputs": []
    },
    {
      "cell_type": "code",
      "source": [
        "!pip install transformers\n",
        "!pip install ekphrasis"
      ],
      "metadata": {
        "id": "XIDxKThMKbGF"
      },
      "execution_count": null,
      "outputs": []
    },
    {
      "cell_type": "code",
      "source": [
        "!HF_DATASETS_OFFLINE=1 TRANSFORMERS_OFFLINE=1 \\"
      ],
      "metadata": {
        "id": "WNdwl39FSOPY"
      },
      "execution_count": 6,
      "outputs": []
    },
    {
      "cell_type": "code",
      "source": [
        "!python /content/SpanEmo_MLEC/scripts/data_loader.py"
      ],
      "metadata": {
        "id": "crKeYGrkJPL0"
      },
      "execution_count": 4,
      "outputs": []
    },
    {
      "cell_type": "code",
      "source": [
        "!python /content/SpanEmo_MLEC/scripts/model.py"
      ],
      "metadata": {
        "id": "mzwmC8qmJRZc"
      },
      "execution_count": 5,
      "outputs": []
    },
    {
      "cell_type": "code",
      "source": [
        "!python /content/SpanEmo_MLEC/scripts/train.py --train-path {'/content/SpanEmo_MLEC/data/E-c-En-train.txt'} --dev-path {'/content/SpanEmo_MLEC/data/E-c-En-dev.txt'} --max-epoch=20"
      ],
      "metadata": {
        "id": "SYkQ1UMiJcia"
      },
      "execution_count": null,
      "outputs": []
    },
    {
      "cell_type": "code",
      "source": [
        "!python /content/SpanEmo_MLEC/scripts/test.py --test-path {'/content/SpanEmo_MLEC/data/E-c-En-test-gold.txt'} --model-path {'/content/SpanEmo_MLEC/models/2022-01-17-19:17:19_checkpoint.pt'}"
      ],
      "metadata": {
        "id": "VLKRkyccJeXS"
      },
      "execution_count": null,
      "outputs": []
    }
  ]
}